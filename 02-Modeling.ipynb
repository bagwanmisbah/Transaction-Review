{
 "cells": [
  {
   "cell_type": "code",
   "execution_count": 3,
   "id": "136ec1b1-23c4-4115-bd96-ad657f2c2471",
   "metadata": {},
   "outputs": [
    {
     "name": "stdout",
     "output_type": "stream",
     "text": [
      "Data prepared. Features to use:\n",
      "Index(['amount', 'oldbalanceOrg', 'newbalanceOrig', 'oldbalanceDest',\n",
      "       'newbalanceDest', 'type_CASH_IN', 'type_CASH_OUT', 'type_DEBIT',\n",
      "       'type_PAYMENT', 'type_TRANSFER'],\n",
      "      dtype='object')\n"
     ]
    }
   ],
   "source": [
    "import pandas as pd\n",
    "from sklearn.ensemble import IsolationForest\n",
    "import xgboost as xgb\n",
    "import joblib\n",
    "\n",
    "df = pd.read_csv('transactions_sample.csv')\n",
    "\n",
    "df_processed = pd.get_dummies(df, columns=['type'], prefix='type')\n",
    "\n",
    "features = [col for col in df_processed.columns if col not in ['step', 'nameOrig', 'nameDest', 'isFraud', 'isFlaggedFraud']]\n",
    "X = df_processed[features]\n",
    "\n",
    "print(\"Data prepared. Features to use:\")\n",
    "print(X.columns)"
   ]
  },
  {
   "cell_type": "code",
   "execution_count": 4,
   "id": "d38a30ae-7e6a-41b4-bd5a-24c22a187f4f",
   "metadata": {},
   "outputs": [
    {
     "name": "stdout",
     "output_type": "stream",
     "text": [
      "Training the Isolation Forest model...\n",
      "Model trained!\n",
      "\n",
      "Number of anomalies detected by Isolation Forest:\n",
      "anomaly_label\n",
      "0    629899\n",
      "1      6363\n",
      "Name: count, dtype: int64\n"
     ]
    }
   ],
   "source": [
    "\n",
    "iso_forest = IsolationForest(n_estimators=100, contamination=0.01, random_state=42)\n",
    "\n",
    "print(\"Training the Isolation Forest model...\")\n",
    "iso_forest.fit(X)\n",
    "print(\"Model trained!\")\n",
    "\n",
    "anomaly_predictions = iso_forest.predict(X)\n",
    "df_processed['anomaly_label'] = [1 if x == -1 else 0 for x in anomaly_predictions]\n",
    "\n",
    "print(\"\\nNumber of anomalies detected by Isolation Forest:\")\n",
    "print(df_processed['anomaly_label'].value_counts())"
   ]
  },
  {
   "cell_type": "code",
   "execution_count": 5,
   "id": "6368ca43-6f23-4f4e-ad57-6d3a4d7c7c2d",
   "metadata": {},
   "outputs": [
    {
     "name": "stdout",
     "output_type": "stream",
     "text": [
      "\n",
      "Training the XGBoost surrogate model...\n",
      "Surrogate model trained!\n"
     ]
    }
   ],
   "source": [
    "y = df_processed['anomaly_label']\n",
    "\n",
    "xgb_surrogate = xgb.XGBClassifier(objective='binary:logistic', random_state=42)\n",
    "\n",
    "print(\"\\nTraining the XGBoost surrogate model...\")\n",
    "xgb_surrogate.fit(X, y)\n",
    "print(\"Surrogate model trained!\")"
   ]
  },
  {
   "cell_type": "code",
   "execution_count": 6,
   "id": "8bcb5ba8-1b21-49db-b667-24850e2c274f",
   "metadata": {},
   "outputs": [
    {
     "name": "stdout",
     "output_type": "stream",
     "text": [
      "\n",
      "All models and feature list have been saved to the 'models' folder.\n"
     ]
    }
   ],
   "source": [
    "import os\n",
    "os.makedirs('models', exist_ok=True)\n",
    "\n",
    "joblib.dump(iso_forest, 'models/isolation_forest_model.joblib')\n",
    "joblib.dump(xgb_surrogate, 'models/xgb_surrogate_model.joblib')\n",
    "\n",
    "#  list of feature columns our models were trained on\n",
    "joblib.dump(features, 'models/features.joblib')\n",
    "\n",
    "print(\"\\nAll models and feature list have been saved to the 'models' folder.\")"
   ]
  },
  {
   "cell_type": "code",
   "execution_count": 7,
   "id": "e853e659-0891-43ad-bf38-d322dd44d549",
   "metadata": {},
   "outputs": [
    {
     "name": "stdout",
     "output_type": "stream",
     "text": [
      "--- Evaluating Isolation Forest's ability to find REAL FRAUD ---\n",
      "\n",
      "Classification Report:\n",
      "              precision    recall  f1-score   support\n",
      "\n",
      "           0       1.00      0.99      0.99    635445\n",
      "           1       0.01      0.06      0.01       817\n",
      "\n",
      "    accuracy                           0.99    636262\n",
      "   macro avg       0.50      0.52      0.50    636262\n",
      "weighted avg       1.00      0.99      0.99    636262\n",
      "\n"
     ]
    }
   ],
   "source": [
    "from sklearn.metrics import classification_report, confusion_matrix\n",
    "\n",
    "y_true_fraud = df_processed['isFraud']\n",
    "\n",
    "\n",
    "y_pred_anomaly = df_processed['anomaly_label']\n",
    "\n",
    "print(\"--- Evaluating Isolation Forest's ability to find REAL FRAUD ---\")\n",
    "print(\"\\nClassification Report:\")\n",
    "\n",
    "# Note: We are comparing the model's anomaly predictions to the true fraud labels.\n",
    "print(classification_report(y_true_fraud, y_pred_anomaly))"
   ]
  },
  {
   "cell_type": "code",
   "execution_count": 8,
   "id": "b1f812fc-3037-4d60-abad-e741cb9f2f02",
   "metadata": {},
   "outputs": [
    {
     "name": "stdout",
     "output_type": "stream",
     "text": [
      "\n",
      "--- Evaluating XGBoost's ability to MIMIC the Isolation Forest ---\n",
      "\n",
      "Classification Report:\n",
      "              precision    recall  f1-score   support\n",
      "\n",
      "           0       1.00      1.00      1.00    629899\n",
      "           1       0.98      0.98      0.98      6363\n",
      "\n",
      "    accuracy                           1.00    636262\n",
      "   macro avg       0.99      0.99      0.99    636262\n",
      "weighted avg       1.00      1.00      1.00    636262\n",
      "\n"
     ]
    }
   ],
   "source": [
    "y_iso_forest_labels = y \n",
    "\n",
    "# Get predictions from our trained surrogate model\n",
    "y_xgb_pred = xgb_surrogate.predict(X)\n",
    "\n",
    "print(\"\\n--- Evaluating XGBoost's ability to MIMIC the Isolation Forest ---\")\n",
    "print(\"\\nClassification Report:\")\n",
    "print(classification_report(y_iso_forest_labels, y_xgb_pred))"
   ]
  },
  {
   "cell_type": "code",
   "execution_count": 9,
   "id": "8a61d7de-c6c1-4d38-a234-323e3aa3b965",
   "metadata": {},
   "outputs": [
    {
     "name": "stdout",
     "output_type": "stream",
     "text": [
      "Note: you may need to restart the kernel to use updated packages.\n"
     ]
    }
   ],
   "source": [
    "pip freeze > requirements.txt"
   ]
  },
  {
   "cell_type": "code",
   "execution_count": null,
   "id": "1a470503-1328-4386-9fbe-d533237b42b8",
   "metadata": {},
   "outputs": [],
   "source": []
  }
 ],
 "metadata": {
  "kernelspec": {
   "display_name": "Python 3 (ipykernel)",
   "language": "python",
   "name": "python3"
  },
  "language_info": {
   "codemirror_mode": {
    "name": "ipython",
    "version": 3
   },
   "file_extension": ".py",
   "mimetype": "text/x-python",
   "name": "python",
   "nbconvert_exporter": "python",
   "pygments_lexer": "ipython3",
   "version": "3.12.4"
  }
 },
 "nbformat": 4,
 "nbformat_minor": 5
}
