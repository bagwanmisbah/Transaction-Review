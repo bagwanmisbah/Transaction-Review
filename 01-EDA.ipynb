{
 "cells": [
  {
   "cell_type": "code",
   "execution_count": 2,
   "id": "ed76b25e-978f-409f-84c1-f2defd41bf30",
   "metadata": {},
   "outputs": [
    {
     "name": "stdout",
     "output_type": "stream",
     "text": [
      "Dataset loaded\n"
     ]
    }
   ],
   "source": [
    "import pandas as pd\n",
    "import matplotlib.pyplot as plt\n",
    "import seaborn as sns\n",
    "\n",
    "sns.set_style('whitegrid')\n",
    "\n",
    "df = pd.read_csv('transactions_sample.csv')\n",
    "\n",
    "print(\"Dataset loaded\")"
   ]
  },
  {
   "cell_type": "code",
   "execution_count": 3,
   "id": "78975301-e2ce-4807-8734-cb15e6e976e5",
   "metadata": {},
   "outputs": [
    {
     "name": "stdout",
     "output_type": "stream",
     "text": [
      "First 5 rows:\n"
     ]
    },
    {
     "data": {
      "text/html": [
       "<div>\n",
       "<style scoped>\n",
       "    .dataframe tbody tr th:only-of-type {\n",
       "        vertical-align: middle;\n",
       "    }\n",
       "\n",
       "    .dataframe tbody tr th {\n",
       "        vertical-align: top;\n",
       "    }\n",
       "\n",
       "    .dataframe thead th {\n",
       "        text-align: right;\n",
       "    }\n",
       "</style>\n",
       "<table border=\"1\" class=\"dataframe\">\n",
       "  <thead>\n",
       "    <tr style=\"text-align: right;\">\n",
       "      <th></th>\n",
       "      <th>step</th>\n",
       "      <th>type</th>\n",
       "      <th>amount</th>\n",
       "      <th>nameOrig</th>\n",
       "      <th>oldbalanceOrg</th>\n",
       "      <th>newbalanceOrig</th>\n",
       "      <th>nameDest</th>\n",
       "      <th>oldbalanceDest</th>\n",
       "      <th>newbalanceDest</th>\n",
       "      <th>isFraud</th>\n",
       "      <th>isFlaggedFraud</th>\n",
       "    </tr>\n",
       "  </thead>\n",
       "  <tbody>\n",
       "    <tr>\n",
       "      <th>0</th>\n",
       "      <td>278</td>\n",
       "      <td>CASH_IN</td>\n",
       "      <td>330218.42</td>\n",
       "      <td>C632336343</td>\n",
       "      <td>20866.00</td>\n",
       "      <td>351084.42</td>\n",
       "      <td>C834976624</td>\n",
       "      <td>452419.57</td>\n",
       "      <td>122201.15</td>\n",
       "      <td>0</td>\n",
       "      <td>0</td>\n",
       "    </tr>\n",
       "    <tr>\n",
       "      <th>1</th>\n",
       "      <td>15</td>\n",
       "      <td>PAYMENT</td>\n",
       "      <td>11647.08</td>\n",
       "      <td>C1264712553</td>\n",
       "      <td>30370.00</td>\n",
       "      <td>18722.92</td>\n",
       "      <td>M215391829</td>\n",
       "      <td>0.00</td>\n",
       "      <td>0.00</td>\n",
       "      <td>0</td>\n",
       "      <td>0</td>\n",
       "    </tr>\n",
       "    <tr>\n",
       "      <th>2</th>\n",
       "      <td>10</td>\n",
       "      <td>CASH_IN</td>\n",
       "      <td>152264.21</td>\n",
       "      <td>C1746846248</td>\n",
       "      <td>106589.00</td>\n",
       "      <td>258853.21</td>\n",
       "      <td>C1607284477</td>\n",
       "      <td>201303.01</td>\n",
       "      <td>49038.80</td>\n",
       "      <td>0</td>\n",
       "      <td>0</td>\n",
       "    </tr>\n",
       "    <tr>\n",
       "      <th>3</th>\n",
       "      <td>403</td>\n",
       "      <td>TRANSFER</td>\n",
       "      <td>1551760.63</td>\n",
       "      <td>C333676753</td>\n",
       "      <td>0.00</td>\n",
       "      <td>0.00</td>\n",
       "      <td>C1564353608</td>\n",
       "      <td>3198359.45</td>\n",
       "      <td>4750120.08</td>\n",
       "      <td>0</td>\n",
       "      <td>0</td>\n",
       "    </tr>\n",
       "    <tr>\n",
       "      <th>4</th>\n",
       "      <td>206</td>\n",
       "      <td>CASH_IN</td>\n",
       "      <td>78172.30</td>\n",
       "      <td>C813403091</td>\n",
       "      <td>2921331.58</td>\n",
       "      <td>2999503.88</td>\n",
       "      <td>C1091768874</td>\n",
       "      <td>415821.90</td>\n",
       "      <td>337649.60</td>\n",
       "      <td>0</td>\n",
       "      <td>0</td>\n",
       "    </tr>\n",
       "  </tbody>\n",
       "</table>\n",
       "</div>"
      ],
      "text/plain": [
       "   step      type      amount     nameOrig  oldbalanceOrg  newbalanceOrig  \\\n",
       "0   278   CASH_IN   330218.42   C632336343       20866.00       351084.42   \n",
       "1    15   PAYMENT    11647.08  C1264712553       30370.00        18722.92   \n",
       "2    10   CASH_IN   152264.21  C1746846248      106589.00       258853.21   \n",
       "3   403  TRANSFER  1551760.63   C333676753           0.00            0.00   \n",
       "4   206   CASH_IN    78172.30   C813403091     2921331.58      2999503.88   \n",
       "\n",
       "      nameDest  oldbalanceDest  newbalanceDest  isFraud  isFlaggedFraud  \n",
       "0   C834976624       452419.57       122201.15        0               0  \n",
       "1   M215391829            0.00            0.00        0               0  \n",
       "2  C1607284477       201303.01        49038.80        0               0  \n",
       "3  C1564353608      3198359.45      4750120.08        0               0  \n",
       "4  C1091768874       415821.90       337649.60        0               0  "
      ]
     },
     "metadata": {},
     "output_type": "display_data"
    },
    {
     "name": "stdout",
     "output_type": "stream",
     "text": [
      "\n",
      "Dataset Info:\n",
      "<class 'pandas.core.frame.DataFrame'>\n",
      "RangeIndex: 636262 entries, 0 to 636261\n",
      "Data columns (total 11 columns):\n",
      " #   Column          Non-Null Count   Dtype  \n",
      "---  ------          --------------   -----  \n",
      " 0   step            636262 non-null  int64  \n",
      " 1   type            636262 non-null  object \n",
      " 2   amount          636262 non-null  float64\n",
      " 3   nameOrig        636262 non-null  object \n",
      " 4   oldbalanceOrg   636262 non-null  float64\n",
      " 5   newbalanceOrig  636262 non-null  float64\n",
      " 6   nameDest        636262 non-null  object \n",
      " 7   oldbalanceDest  636262 non-null  float64\n",
      " 8   newbalanceDest  636262 non-null  float64\n",
      " 9   isFraud         636262 non-null  int64  \n",
      " 10  isFlaggedFraud  636262 non-null  int64  \n",
      "dtypes: float64(5), int64(3), object(3)\n",
      "memory usage: 53.4+ MB\n",
      "\n",
      "Descriptive Statistics:\n"
     ]
    },
    {
     "data": {
      "text/html": [
       "<div>\n",
       "<style scoped>\n",
       "    .dataframe tbody tr th:only-of-type {\n",
       "        vertical-align: middle;\n",
       "    }\n",
       "\n",
       "    .dataframe tbody tr th {\n",
       "        vertical-align: top;\n",
       "    }\n",
       "\n",
       "    .dataframe thead th {\n",
       "        text-align: right;\n",
       "    }\n",
       "</style>\n",
       "<table border=\"1\" class=\"dataframe\">\n",
       "  <thead>\n",
       "    <tr style=\"text-align: right;\">\n",
       "      <th></th>\n",
       "      <th>step</th>\n",
       "      <th>amount</th>\n",
       "      <th>oldbalanceOrg</th>\n",
       "      <th>newbalanceOrig</th>\n",
       "      <th>oldbalanceDest</th>\n",
       "      <th>newbalanceDest</th>\n",
       "      <th>isFraud</th>\n",
       "      <th>isFlaggedFraud</th>\n",
       "    </tr>\n",
       "  </thead>\n",
       "  <tbody>\n",
       "    <tr>\n",
       "      <th>count</th>\n",
       "      <td>636262.000000</td>\n",
       "      <td>6.362620e+05</td>\n",
       "      <td>6.362620e+05</td>\n",
       "      <td>6.362620e+05</td>\n",
       "      <td>6.362620e+05</td>\n",
       "      <td>6.362620e+05</td>\n",
       "      <td>636262.000000</td>\n",
       "      <td>636262.000000</td>\n",
       "    </tr>\n",
       "    <tr>\n",
       "      <th>mean</th>\n",
       "      <td>243.527333</td>\n",
       "      <td>1.810421e+05</td>\n",
       "      <td>8.285452e+05</td>\n",
       "      <td>8.499065e+05</td>\n",
       "      <td>1.106790e+06</td>\n",
       "      <td>1.232760e+06</td>\n",
       "      <td>0.001284</td>\n",
       "      <td>0.000002</td>\n",
       "    </tr>\n",
       "    <tr>\n",
       "      <th>std</th>\n",
       "      <td>142.493187</td>\n",
       "      <td>6.136867e+05</td>\n",
       "      <td>2.877271e+06</td>\n",
       "      <td>2.913449e+06</td>\n",
       "      <td>3.396119e+06</td>\n",
       "      <td>3.685490e+06</td>\n",
       "      <td>0.035811</td>\n",
       "      <td>0.001254</td>\n",
       "    </tr>\n",
       "    <tr>\n",
       "      <th>min</th>\n",
       "      <td>1.000000</td>\n",
       "      <td>0.000000e+00</td>\n",
       "      <td>0.000000e+00</td>\n",
       "      <td>0.000000e+00</td>\n",
       "      <td>0.000000e+00</td>\n",
       "      <td>0.000000e+00</td>\n",
       "      <td>0.000000</td>\n",
       "      <td>0.000000</td>\n",
       "    </tr>\n",
       "    <tr>\n",
       "      <th>25%</th>\n",
       "      <td>156.000000</td>\n",
       "      <td>1.336292e+04</td>\n",
       "      <td>0.000000e+00</td>\n",
       "      <td>0.000000e+00</td>\n",
       "      <td>0.000000e+00</td>\n",
       "      <td>0.000000e+00</td>\n",
       "      <td>0.000000</td>\n",
       "      <td>0.000000</td>\n",
       "    </tr>\n",
       "    <tr>\n",
       "      <th>50%</th>\n",
       "      <td>239.000000</td>\n",
       "      <td>7.494935e+04</td>\n",
       "      <td>1.411181e+04</td>\n",
       "      <td>0.000000e+00</td>\n",
       "      <td>1.330480e+05</td>\n",
       "      <td>2.159363e+05</td>\n",
       "      <td>0.000000</td>\n",
       "      <td>0.000000</td>\n",
       "    </tr>\n",
       "    <tr>\n",
       "      <th>75%</th>\n",
       "      <td>335.000000</td>\n",
       "      <td>2.094772e+05</td>\n",
       "      <td>1.069565e+05</td>\n",
       "      <td>1.436672e+05</td>\n",
       "      <td>9.505290e+05</td>\n",
       "      <td>1.119455e+06</td>\n",
       "      <td>0.000000</td>\n",
       "      <td>0.000000</td>\n",
       "    </tr>\n",
       "    <tr>\n",
       "      <th>max</th>\n",
       "      <td>742.000000</td>\n",
       "      <td>6.933732e+07</td>\n",
       "      <td>3.791982e+07</td>\n",
       "      <td>3.795009e+07</td>\n",
       "      <td>3.279981e+08</td>\n",
       "      <td>3.284317e+08</td>\n",
       "      <td>1.000000</td>\n",
       "      <td>1.000000</td>\n",
       "    </tr>\n",
       "  </tbody>\n",
       "</table>\n",
       "</div>"
      ],
      "text/plain": [
       "                step        amount  oldbalanceOrg  newbalanceOrig  \\\n",
       "count  636262.000000  6.362620e+05   6.362620e+05    6.362620e+05   \n",
       "mean      243.527333  1.810421e+05   8.285452e+05    8.499065e+05   \n",
       "std       142.493187  6.136867e+05   2.877271e+06    2.913449e+06   \n",
       "min         1.000000  0.000000e+00   0.000000e+00    0.000000e+00   \n",
       "25%       156.000000  1.336292e+04   0.000000e+00    0.000000e+00   \n",
       "50%       239.000000  7.494935e+04   1.411181e+04    0.000000e+00   \n",
       "75%       335.000000  2.094772e+05   1.069565e+05    1.436672e+05   \n",
       "max       742.000000  6.933732e+07   3.791982e+07    3.795009e+07   \n",
       "\n",
       "       oldbalanceDest  newbalanceDest        isFraud  isFlaggedFraud  \n",
       "count    6.362620e+05    6.362620e+05  636262.000000   636262.000000  \n",
       "mean     1.106790e+06    1.232760e+06       0.001284        0.000002  \n",
       "std      3.396119e+06    3.685490e+06       0.035811        0.001254  \n",
       "min      0.000000e+00    0.000000e+00       0.000000        0.000000  \n",
       "25%      0.000000e+00    0.000000e+00       0.000000        0.000000  \n",
       "50%      1.330480e+05    2.159363e+05       0.000000        0.000000  \n",
       "75%      9.505290e+05    1.119455e+06       0.000000        0.000000  \n",
       "max      3.279981e+08    3.284317e+08       1.000000        1.000000  "
      ]
     },
     "metadata": {},
     "output_type": "display_data"
    }
   ],
   "source": [
    "\n",
    "print(\"First 5 rows:\")\n",
    "display(df.head())\n",
    "\n",
    "print(\"\\nDataset Info:\")\n",
    "df.info()\n",
    "\n",
    "print(\"\\nDescriptive Statistics:\")\n",
    "display(df.describe())"
   ]
  },
  {
   "cell_type": "markdown",
   "id": "c130ff48-d17b-4d86-8e34-b1ae11099fdd",
   "metadata": {},
   "source": [
    "Key Questions (Deep Dive Analysis)"
   ]
  },
  {
   "cell_type": "markdown",
   "id": "4f78f59a-39e7-44e0-8efc-1cbe81a94c01",
   "metadata": {},
   "source": [
    "Question 1: What are the different types of transactions and how common are they?"
   ]
  },
  {
   "cell_type": "code",
   "execution_count": 4,
   "id": "fba8fa6e-a158-457b-8ed6-f5ab0dd544ba",
   "metadata": {},
   "outputs": [
    {
     "data": {
      "image/png": "[encoded data removed]",
      "text/plain": [
       "<Figure size 1000x600 with 1 Axes>"
      ]
     },
     "metadata": {},
     "output_type": "display_data"
    }
   ],
   "source": [
    "plt.figure(figsize=(10, 6))\n",
    "sns.countplot(x='type', data=df, order=df['type'].value_counts().index)\n",
    "plt.title('Distribution of Transaction Types')\n",
    "plt.ylabel('Number of Transactions')\n",
    "plt.show()"
   ]
  },
  {
   "cell_type": "markdown",
   "id": "e5d879a5-e7e6-4360-9460-1de3a042c02c",
   "metadata": {},
   "source": [
    "Question 2: How many transactions are actually fraudulent? Is our data imbalanced?"
   ]
  },
  {
   "cell_type": "code",
   "execution_count": 5,
   "id": "8c98adbe-4f8b-4432-858f-7352b5d842ce",
   "metadata": {},
   "outputs": [
    {
     "name": "stdout",
     "output_type": "stream",
     "text": [
      "Fraud Counts:\n",
      "isFraud\n",
      "0    635445\n",
      "1       817\n",
      "Name: count, dtype: int64\n",
      "\n",
      "Fraud Percentage:\n",
      "isFraud\n",
      "0    99.871594\n",
      "1     0.128406\n",
      "Name: proportion, dtype: float64\n"
     ]
    }
   ],
   "source": [
    "\n",
    "fraud_counts = df['isFraud'].value_counts()\n",
    "fraud_percentage = df['isFraud'].value_counts(normalize=True) * 100\n",
    "\n",
    "print(f\"Fraud Counts:\\n{fraud_counts}\")\n",
    "print(f\"\\nFraud Percentage:\\n{fraud_percentage}\")"
   ]
  },
  {
   "cell_type": "markdown",
   "id": "67e94b67-db35-40d9-b517-8a2c82970bae",
   "metadata": {},
   "source": [
    "Question 3: What do fraudulent transactions look like?"
   ]
  },
  {
   "cell_type": "code",
   "execution_count": 6,
   "id": "b838d5d0-402f-4512-83f9-820e433bf501",
   "metadata": {},
   "outputs": [
    {
     "name": "stdout",
     "output_type": "stream",
     "text": [
      "Number of Fraudulent Transactions by Type:\n",
      "type\n",
      "CASH_IN       0\n",
      "CASH_OUT    402\n",
      "DEBIT         0\n",
      "PAYMENT       0\n",
      "TRANSFER    415\n",
      "Name: isFraud, dtype: int64\n"
     ]
    }
   ],
   "source": [
    "fraud_by_type = df.groupby('type')['isFraud'].sum()\n",
    "\n",
    "print(\"Number of Fraudulent Transactions by Type:\")\n",
    "print(fraud_by_type)"
   ]
  },
  {
   "cell_type": "markdown",
   "id": "4610c393-329f-47fb-9360-0e70811fa8f2",
   "metadata": {},
   "source": [
    "Step 4: Summarize  Findings"
   ]
  },
  {
   "cell_type": "markdown",
   "id": "4ee06af8-f663-47fd-b665-6aff34584e71",
   "metadata": {},
   "source": [
    "The dataset contains over 600,000 transactions with no missing values.\n",
    "\n",
    "The data is highly imbalanced; fraudulent transactions are very rare.\n",
    "\n",
    "Fraud only occurs in TRANSFER and CASH_OUT type transactions. This is a critical pattern.\n",
    "\n",
    "The amount column has a very wide range, suggesting potential outliers."
   ]
  },
  {
   "cell_type": "code",
   "execution_count": null,
   "id": "e4346392-37a0-43e3-9c41-e38ff2659cda",
   "metadata": {},
   "outputs": [],
   "source": []
  }
 ],
 "metadata": {
  "kernelspec": {
   "display_name": "Python 3 (ipykernel)",
   "language": "python",
   "name": "python3"
  },
  "language_info": {
   "codemirror_mode": {
    "name": "ipython",
    "version": 3
   },
   "file_extension": ".py",
   "mimetype": "text/x-python",
   "name": "python",
   "nbconvert_exporter": "python",
   "pygments_lexer": "ipython3",
   "version": "3.12.4"
  }
 },
 "nbformat": 4,
 "nbformat_minor": 5
}
